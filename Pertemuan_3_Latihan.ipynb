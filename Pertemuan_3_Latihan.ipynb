{
  "nbformat": 4,
  "nbformat_minor": 0,
  "metadata": {
    "colab": {
      "provenance": [],
      "authorship_tag": "ABX9TyNx36dIYL5lqx98kmeL4D13",
      "include_colab_link": true
    },
    "kernelspec": {
      "name": "python3",
      "display_name": "Python 3"
    },
    "language_info": {
      "name": "python"
    }
  },
  "cells": [
    {
      "cell_type": "markdown",
      "metadata": {
        "id": "view-in-github",
        "colab_type": "text"
      },
      "source": [
        "<a href=\"https://colab.research.google.com/github/66AbiyyuM66/Pemerograman-Dasar/blob/main/Pertemuan_3_Latihan.ipynb\" target=\"_parent\"><img src=\"https://colab.research.google.com/assets/colab-badge.svg\" alt=\"Open In Colab\"/></a>"
      ]
    },
    {
      "cell_type": "code",
      "execution_count": null,
      "metadata": {
        "colab": {
          "base_uri": "https://localhost:8080/"
        },
        "id": "qE1IlrgYmB0M",
        "outputId": "6eb23cb0-d084-44ea-ec95-7ad0b28f7619"
      },
      "outputs": [
        {
          "output_type": "stream",
          "name": "stdout",
          "text": [
            "True\n"
          ]
        }
      ],
      "source": [
        "#Latihan\n",
        "\n",
        "tahun = 2024\n",
        "tahun_kabisat = (tahun % 4 == 0) and (tahun % 100 != 0 ) or (tahun % 400 == 0)\n",
        "\n",
        "print(tahun_kabisat)\n"
      ]
    },
    {
      "cell_type": "code",
      "source": [
        "tahun = int(input(\"Tahun Berapakah Dia? : \"))\n",
        "tahun_kabisat = (tahun % 4 == 0) and (tahun % 100 != 0) or (tahun % 400 == 0)\n",
        "hasil = [\"ini bukan tahun kabisat lohh!\", \"ini baru tahun kabisatt!!!\"][tahun_kabisat]\n",
        "\n",
        "print(f\"{tahun} {hasil}\")\n"
      ],
      "metadata": {
        "colab": {
          "base_uri": "https://localhost:8080/"
        },
        "id": "daROsYwSo8Sk",
        "outputId": "eac55d40-beb1-4828-eafb-7cd16b3074fe"
      },
      "execution_count": null,
      "outputs": [
        {
          "output_type": "stream",
          "name": "stdout",
          "text": [
            "Tahun Berapakah Dia? : 2028\n",
            "2028 ini baru tahun kabisatt!!!\n"
          ]
        }
      ]
    },
    {
      "cell_type": "code",
      "source": [
        "tahun = int(input(\"Tahun Berapakah Dia? : \"))\n",
        "tahun_kabisat = (tahun % 4 == 0) and (tahun % 100 != 0) or (tahun % 400 == 0)\n",
        "hasil = [\"ini bukan tahun kabisat lohh!\", \"ini baru tahun kabisatt!!!\"][tahun_kabisat]\n",
        "\n",
        "print(f\"{tahun} {hasil}\")"
      ],
      "metadata": {
        "colab": {
          "base_uri": "https://localhost:8080/"
        },
        "id": "yUMFtUMFp_m6",
        "outputId": "26d3674b-0709-49cd-9517-982f479a43d4"
      },
      "execution_count": null,
      "outputs": [
        {
          "output_type": "stream",
          "name": "stdout",
          "text": [
            "Tahun Berapakah Dia? : 2023\n",
            "2023 ini bukan tahun kabisat lohh!\n"
          ]
        }
      ]
    }
  ]
}
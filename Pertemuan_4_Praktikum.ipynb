{
  "nbformat": 4,
  "nbformat_minor": 0,
  "metadata": {
    "colab": {
      "provenance": [],
      "authorship_tag": "ABX9TyPWcTG5hzCCf8qTJ9a8yDNv",
      "include_colab_link": true
    },
    "kernelspec": {
      "name": "python3",
      "display_name": "Python 3"
    },
    "language_info": {
      "name": "python"
    }
  },
  "cells": [
    {
      "cell_type": "markdown",
      "metadata": {
        "id": "view-in-github",
        "colab_type": "text"
      },
      "source": [
        "<a href=\"https://colab.research.google.com/github/66AbiyyuM66/Pemerograman-Dasar/blob/main/Pertemuan_4_Praktikum.ipynb\" target=\"_parent\"><img src=\"https://colab.research.google.com/assets/colab-badge.svg\" alt=\"Open In Colab\"/></a>"
      ]
    },
    {
      "cell_type": "code",
      "execution_count": null,
      "metadata": {
        "colab": {
          "base_uri": "https://localhost:8080/"
        },
        "id": "wv4iVYFyT80C",
        "outputId": "7adcffc4-785d-45e1-a91c-a1431024aa5c"
      },
      "outputs": [
        {
          "output_type": "stream",
          "name": "stdout",
          "text": [
            "anda sudah tua\n"
          ]
        }
      ],
      "source": [
        "umur: int = 39\n",
        "\n",
        "if umur > 29:\n",
        "  print(\"anda sudah tua\")"
      ]
    },
    {
      "cell_type": "code",
      "source": [
        "username = input(\"Masukkan Username: \")\n",
        "password = input(\"Masukkan Password: \")\n",
        "\n",
        "if username == \"IpulPucukBoss\" and password == \"KedinginanNihDiatas\" :\n",
        "  print(\"Selamat Anda Fans Liverpool\")\n",
        "\n",
        "else:\n",
        "  print(\"Wah Anda Fans MU!!\")\n"
      ],
      "metadata": {
        "colab": {
          "base_uri": "https://localhost:8080/"
        },
        "id": "6o0x8elYU0U4",
        "outputId": "31ad32fd-7ddc-4c91-969e-247951a18699"
      },
      "execution_count": null,
      "outputs": [
        {
          "output_type": "stream",
          "name": "stdout",
          "text": [
            "Masukkan Username: IpulPucukBoss\n",
            "Masukkan Password: KedinginanNihDiatas\n",
            "Selamat Anda Fans Liverpool\n"
          ]
        }
      ]
    },
    {
      "cell_type": "code",
      "source": [
        "total_belanja = input(\"Total Belanja: Rp \")\n",
        "\n",
        "bayar = int(total_belanja)\n",
        "\n",
        "if int(total_belanja) > 150000 :\n",
        "  print(\"Wah Selamatt!! Karena Total Belanja Anda Sudah Mencapai Persyaratan Diskon\")\n",
        "  print(\"dan anda mendapatkan diskon 5%\")\n",
        "\n",
        "  diskon=int(total_belanja) * 7/100\n",
        "  bayar =int(total_belanja) - diskon\n",
        "\n",
        "print(\"Total Yang Harus Anda Bayar: Rp. %s\" % bayar)\n",
        "print(\"Terimakasih Sudah Berbelanja Di Toko Jaya Abdi Guna!!\")\n",
        "print(\"Kami Tunggu Kunjungan Selanjutnya!!\")"
      ],
      "metadata": {
        "colab": {
          "base_uri": "https://localhost:8080/"
        },
        "id": "c1vM9rn7V213",
        "outputId": "eecc25ae-8f77-43af-b5f9-89c44fec0960"
      },
      "execution_count": null,
      "outputs": [
        {
          "output_type": "stream",
          "name": "stdout",
          "text": [
            "Total Belanja: Rp 185000\n",
            "Wah Selamatt!! Karena Total Belanja Anda Sudah Mencapai Persyaratan Diskon\n",
            "dan anda mendapatkan diskon 5%\n",
            "Total Yang Harus Anda Bayar: Rp. 172050.0\n",
            "Terimakasih Sudah Berbelanja Di Toko Jaya Abdi Guna!!\n",
            "Kami Tunggu Kunjungan Selanjutnya!!\n"
          ]
        }
      ]
    },
    {
      "cell_type": "code",
      "source": [
        "ada_notifikasi_baru: bool = True\n",
        "\n",
        "if ada_notifikasi_baru:\n",
        "  print(\"Ada notifikasi baru\")"
      ],
      "metadata": {
        "colab": {
          "base_uri": "https://localhost:8080/"
        },
        "id": "M1FCZXoqYbR4",
        "outputId": "03d8eb6c-3b54-4a01-834c-19d0590e73fc"
      },
      "execution_count": null,
      "outputs": [
        {
          "output_type": "stream",
          "name": "stdout",
          "text": [
            "Ada notifikasi baru\n"
          ]
        }
      ]
    },
    {
      "cell_type": "code",
      "source": [
        "umur = input(\"Masukkan Umur: \")\n",
        "if int(umur) >= 17:\n",
        "  print(\"Anda sudah boleh membuat SIM\")\n",
        "else:\n",
        "  print(\"Anda belum boleh membuat SIM\")"
      ],
      "metadata": {
        "colab": {
          "base_uri": "https://localhost:8080/"
        },
        "id": "VAaYmyvjaUf5",
        "outputId": "d54f0fe7-ca6f-4df1-9746-2a2dc0008893"
      },
      "execution_count": null,
      "outputs": [
        {
          "output_type": "stream",
          "name": "stdout",
          "text": [
            "Masukkan Umur: 15\n",
            "Anda belum boleh membuat SIM\n"
          ]
        }
      ]
    },
    {
      "cell_type": "code",
      "source": [
        "total_belanja = int(input(\"Total Belanja: Rp \"))\n",
        "\n",
        "if int(total_belanja) > 300000:\n",
        "  diskon = int(total_belanja) * 0.15\n",
        "  total_bayar = int(total_belanja) - diskon\n",
        "  print(f\"Total yang harus dibayar: Rp.\", total_bayar)\n",
        "else:\n",
        "  print(f\"Total yang harus dibayar: Rp.\", total_belanja)"
      ],
      "metadata": {
        "colab": {
          "base_uri": "https://localhost:8080/"
        },
        "id": "v7IeZTJoa0bP",
        "outputId": "4d3944cc-d748-4307-e2c1-2a032db3d30d"
      },
      "execution_count": null,
      "outputs": [
        {
          "output_type": "stream",
          "name": "stdout",
          "text": [
            "Total Belanja: Rp 350000\n",
            "Total yang harus dibayar: Rp. 297500.0\n"
          ]
        }
      ]
    },
    {
      "cell_type": "code",
      "source": [
        "angka = int(input(\"Masukkan angka: \"))\n",
        "\n",
        "if angka % 2 == 0:\n",
        "  print(f\"{angka} adalah angka genap\")\n",
        "else:\n",
        "  print(f\"{angka} adalah angka ganjil\")"
      ],
      "metadata": {
        "colab": {
          "base_uri": "https://localhost:8080/"
        },
        "id": "YdwxiQKLdIHM",
        "outputId": "64b46085-b093-4deb-9928-63f7f44e41ca"
      },
      "execution_count": null,
      "outputs": [
        {
          "output_type": "stream",
          "name": "stdout",
          "text": [
            "Masukkan angka: 5\n",
            "5 adalah angka ganjil\n"
          ]
        }
      ]
    },
    {
      "cell_type": "code",
      "source": [
        "nilai = int(input(\"Masukkan nilai: \"))\n",
        "\n",
        "if nilai >= 88:\n",
        "  print(\"AMAZING!! Anda mendapat nilai A\")\n",
        "elif nilai >= 80:\n",
        "  print(\"Kerja bagus!! Anda mendapat nilai B\")\n",
        "elif nilai >= 70:\n",
        "  print(\"Nice Try!! Anda mendapat nilai C\")\n",
        "else:\n",
        "  print(\"Nilai anda kurang, jangan main terus!!\")"
      ],
      "metadata": {
        "colab": {
          "base_uri": "https://localhost:8080/"
        },
        "id": "QE7j4cA9eLci",
        "outputId": "b6fc6fb7-fa2f-427c-f8ea-ecbe178e9224"
      },
      "execution_count": null,
      "outputs": [
        {
          "output_type": "stream",
          "name": "stdout",
          "text": [
            "Masukkan nilai: 40\n",
            "Nilai anda kurang, jangan main terus!!\n"
          ]
        }
      ]
    },
    {
      "cell_type": "code",
      "source": [
        "hari: str = input(\"Masukkan hari: \")\n",
        "\n",
        "if hari == \"Sabtu\" or hari == \"Minggu\":\n",
        "  diskon: float = 0.35\n",
        "  print(f\"Selamat bung/sis anda mendapatkan diskon weekend sebesar {diskon*100}%.\")\n",
        "elif hari == \"Jumat\":\n",
        "  diskon: float = 0.10\n",
        "  print(f\"Selamat bung/sis anda mendapatkan diskon jumat sebesar {diskon*100}%.\")\n",
        "else:\n",
        "  diskon: float = 0.07\n",
        "  print(f\"Selamat bung/sis anda mendapatkan diskon sebesar {diskon*100}%.\")"
      ],
      "metadata": {
        "colab": {
          "base_uri": "https://localhost:8080/"
        },
        "id": "SAvxAaOGfaIA",
        "outputId": "8995f212-3e9e-41a7-bdf4-6ab42b7a226a"
      },
      "execution_count": null,
      "outputs": [
        {
          "output_type": "stream",
          "name": "stdout",
          "text": [
            "Masukkan hari: Senin\n",
            "Selamat bung/sis anda mendapatkan diskon sebesar 7.000000000000001%.\n"
          ]
        }
      ]
    },
    {
      "cell_type": "code",
      "source": [
        "rupiah = int(input(\"Masukkan jumlah uang (Rp): \"))\n",
        "print(\"1. Dollar (USD)\")\n",
        "print(\"2. Euro (EUR)\")\n",
        "print(\"3. Yen (JPY)\")\n",
        "pilih = int(input(\"Silihkan Milih Opsi Konversi (1/2/3): \"))\n",
        "\n",
        "if pilih == 1:\n",
        "  print(\"Dalam Dollar:\", rupiah / 16602)\n",
        "elif pilih == 2:\n",
        "  print(\"Dalam Euro:\", rupiah / 19530)\n",
        "elif pilih == 3:\n",
        "  print(\"Dalam Yen:\", rupiah / 112)\n",
        "else:\n",
        "  print(\"Pilihan tidak tersedia\")"
      ],
      "metadata": {
        "colab": {
          "base_uri": "https://localhost:8080/"
        },
        "id": "ED9lmejkfPAI",
        "outputId": "062eabe9-aafd-438b-fa8f-9b0734e748c4"
      },
      "execution_count": null,
      "outputs": [
        {
          "output_type": "stream",
          "name": "stdout",
          "text": [
            "Masukkan jumlah uang (Rp): 100000\n",
            "1. Dollar (USD)\n",
            "2. Euro (EUR)\n",
            "3. Yen (JPY)\n",
            "Silihkan Milih Opsi Konversi (1/2/3): 3\n",
            "Dalam Yen: 892.8571428571429\n"
          ]
        }
      ]
    }
  ]
}
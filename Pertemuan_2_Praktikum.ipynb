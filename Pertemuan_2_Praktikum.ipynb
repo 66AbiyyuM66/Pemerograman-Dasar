{
  "nbformat": 4,
  "nbformat_minor": 0,
  "metadata": {
    "colab": {
      "provenance": [],
      "authorship_tag": "ABX9TyOPj2mPsqB1NBKOao3UGPLi",
      "include_colab_link": true
    },
    "kernelspec": {
      "name": "python3",
      "display_name": "Python 3"
    },
    "language_info": {
      "name": "python"
    }
  },
  "cells": [
    {
      "cell_type": "markdown",
      "metadata": {
        "id": "view-in-github",
        "colab_type": "text"
      },
      "source": [
        "<a href=\"https://colab.research.google.com/github/66AbiyyuM66/Pemerograman-Dasar/blob/main/Pertemuan_2_Praktikum.ipynb\" target=\"_parent\"><img src=\"https://colab.research.google.com/assets/colab-badge.svg\" alt=\"Open In Colab\"/></a>"
      ]
    },
    {
      "cell_type": "code",
      "execution_count": null,
      "metadata": {
        "colab": {
          "base_uri": "https://localhost:8080/"
        },
        "id": "23pISIV3Stem",
        "outputId": "4c15fb42-029a-4724-c852-e11613f1ce04"
      },
      "outputs": [
        {
          "output_type": "stream",
          "name": "stdout",
          "text": [
            "<class 'int'>\n",
            "<class 'float'>\n"
          ]
        }
      ],
      "source": [
        "age = 20\n",
        "salary = 250000.0\n",
        "\n",
        "print(type(age))\n",
        "print(type(salary))"
      ]
    },
    {
      "cell_type": "code",
      "source": [
        "x = 17\n",
        "print(type(x))\n",
        "\n",
        "x = \"17\"\n",
        "print(type(x))\n",
        "\n",
        "x = 17.5\n",
        "print(type(x))\n",
        "\n",
        "x = 1+17j\n",
        "print(type(x))"
      ],
      "metadata": {
        "colab": {
          "base_uri": "https://localhost:8080/"
        },
        "id": "OdIjVeSIYKmB",
        "outputId": "3270ed38-28e3-41f8-8d15-67d42183e9e3"
      },
      "execution_count": null,
      "outputs": [
        {
          "output_type": "stream",
          "name": "stdout",
          "text": [
            "<class 'int'>\n",
            "<class 'str'>\n",
            "<class 'float'>\n",
            "<class 'complex'>\n"
          ]
        }
      ]
    },
    {
      "cell_type": "code",
      "source": [
        "x = True\n",
        "y = False\n",
        "print(type(x))\n",
        "print(type(y))\n"
      ],
      "metadata": {
        "colab": {
          "base_uri": "https://localhost:8080/"
        },
        "id": "jZYXenUBZLkC",
        "outputId": "7f305693-ef6e-47bb-c4ac-b9bcdec8cb3e"
      },
      "execution_count": null,
      "outputs": [
        {
          "output_type": "stream",
          "name": "stdout",
          "text": [
            "<class 'bool'>\n",
            "<class 'bool'>\n"
          ]
        }
      ]
    },
    {
      "cell_type": "code",
      "source": [
        "x = \"polibatam\"\n",
        "print(type(x))\n"
      ],
      "metadata": {
        "colab": {
          "base_uri": "https://localhost:8080/"
        },
        "id": "_LIXMbNqaNf6",
        "outputId": "723149ff-9c42-421e-dc4b-c988b237fe1f"
      },
      "execution_count": null,
      "outputs": [
        {
          "output_type": "stream",
          "name": "stdout",
          "text": [
            "<class 'str'>\n"
          ]
        }
      ]
    },
    {
      "cell_type": "code",
      "source": [
        "var = 17\n",
        "print(var)\n",
        "print(id(var))\n",
        "\n",
        "var = 26\n",
        "print(var)\n",
        "print(id(var))"
      ],
      "metadata": {
        "colab": {
          "base_uri": "https://localhost:8080/"
        },
        "id": "88Zez_09ZeTb",
        "outputId": "fb3f6854-17f9-490b-b32f-3298eb9d3b51"
      },
      "execution_count": null,
      "outputs": [
        {
          "output_type": "stream",
          "name": "stdout",
          "text": [
            "17\n",
            "11642600\n",
            "26\n",
            "11642888\n"
          ]
        }
      ]
    },
    {
      "cell_type": "code",
      "source": [
        "multi_line = \"\"\"Halo semuanya!!\n",
        "perkenalkan nama saya abiyyu, angka favorit saya 17\n",
        "saya berumur 20 tahun\n",
        "senang bertemu dengan kalian\"\"\"\n",
        "print(multi_line)"
      ],
      "metadata": {
        "colab": {
          "base_uri": "https://localhost:8080/"
        },
        "id": "ljG29Ajdaaru",
        "outputId": "18ad9b23-99e7-4e50-d6ec-53c2ffe0293c"
      },
      "execution_count": null,
      "outputs": [
        {
          "output_type": "stream",
          "name": "stdout",
          "text": [
            "Halo semuanya!!\n",
            "perkenalkan nama saya abiyyu, angka favorit saya 17\n",
            "saya berumur 20 tahun\n",
            "senang bertemu dengan kalian\n"
          ]
        }
      ]
    },
    {
      "cell_type": "code",
      "source": [
        "x = \"Abiyyu\"\n",
        "print(x[0])\n",
        "\n",
        "print(x[1:])\n",
        "\n",
        "print(x[2:6])\n"
      ],
      "metadata": {
        "colab": {
          "base_uri": "https://localhost:8080/"
        },
        "id": "KQFYQMJ0a7X8",
        "outputId": "dcc99365-d09c-426c-d4d4-423f0e7f45f9"
      },
      "execution_count": null,
      "outputs": [
        {
          "output_type": "stream",
          "name": "stdout",
          "text": [
            "A\n",
            "biyyu\n",
            "iyyu\n"
          ]
        }
      ]
    },
    {
      "cell_type": "code",
      "source": [
        "name = \"Abiyyu Muflih Kurnia\"\n",
        "print(f\"hallo, perkenalkan nama saya {name}\")\n",
        "\n",
        "print(\"Nama saya %s\" % (name))\n",
        "\n",
        "print(\"Kalau ingin tahu, nama saya {}\" .format  (name))\n",
        "\n",
        "print(\"Nama saya :\", name)"
      ],
      "metadata": {
        "colab": {
          "base_uri": "https://localhost:8080/"
        },
        "id": "2s2OJIbvbmGn",
        "outputId": "377459e1-9156-463e-f678-8fe8f8dd1d65"
      },
      "execution_count": null,
      "outputs": [
        {
          "output_type": "stream",
          "name": "stdout",
          "text": [
            "hallo, perkenalkan nama saya Abiyyu Muflih Kurnia\n",
            "Nama saya Abiyyu Muflih Kurnia\n",
            "Kalau ingin tahu, nama saya Abiyyu Muflih Kurnia\n",
            "Nama saya : Abiyyu Muflih Kurnia\n"
          ]
        }
      ]
    },
    {
      "cell_type": "code",
      "source": [
        "x = [1, 2.2, \"Poloibatam\"]\n",
        "\n",
        "print(type(x))\n",
        "print(x)"
      ],
      "metadata": {
        "colab": {
          "base_uri": "https://localhost:8080/"
        },
        "id": "y3I_39c3l5st",
        "outputId": "95780977-d991-4fe1-9e01-e5cd5c32deb7"
      },
      "execution_count": null,
      "outputs": [
        {
          "output_type": "stream",
          "name": "stdout",
          "text": [
            "<class 'list'>\n",
            "[1, 2.2, 'Poloibatam']\n"
          ]
        }
      ]
    },
    {
      "cell_type": "code",
      "source": [
        "x = [1, \"Abiyyu\", False, 17,7]\n",
        "\n",
        "print(x[2])"
      ],
      "metadata": {
        "colab": {
          "base_uri": "https://localhost:8080/"
        },
        "id": "Ga0adcstnKie",
        "outputId": "e2e50092-d915-4a92-d08c-32a67333c88f"
      },
      "execution_count": null,
      "outputs": [
        {
          "output_type": "stream",
          "name": "stdout",
          "text": [
            "False\n"
          ]
        }
      ]
    },
    {
      "cell_type": "code",
      "source": [
        "x = [17, 1.1, \"Abiyyu\"]\n",
        "x[1] = \"Minang\"\n",
        "print(x)\n"
      ],
      "metadata": {
        "colab": {
          "base_uri": "https://localhost:8080/"
        },
        "id": "7iXxzgB4n69O",
        "outputId": "f56a1181-ae4f-497c-9d9b-035b2d1a24a8"
      },
      "execution_count": null,
      "outputs": [
        {
          "output_type": "stream",
          "name": "stdout",
          "text": [
            "[17, 'Minang', 'Abiyyu']\n"
          ]
        }
      ]
    },
    {
      "cell_type": "code",
      "source": [
        "# Deklarasi Variabel List\n",
        "numbers = [1, 2, 10, 50, 100, 1500]\n",
        "\n",
        "print(numbers[0])\n",
        "print(numbers[1])\n",
        "print(numbers[2])\n",
        "print(numbers[3])\n",
        "print(numbers[4])\n",
        "print(numbers[5])"
      ],
      "metadata": {
        "colab": {
          "base_uri": "https://localhost:8080/"
        },
        "id": "hXv7rXKQoTAl",
        "outputId": "d844f61f-3d01-4a10-b7a4-adb2e0237bdc"
      },
      "execution_count": null,
      "outputs": [
        {
          "output_type": "stream",
          "name": "stdout",
          "text": [
            "1\n",
            "2\n",
            "10\n",
            "50\n",
            "1500\n"
          ]
        }
      ]
    },
    {
      "cell_type": "code",
      "source": [
        "# Mengubah Nilai Elemenr dalam Variabel list\n",
        "numbers = [1, 2, 10, 50, 100, 1500]\n",
        "numbers[4] = 177\n",
        "\n",
        "print(numbers[0])\n",
        "print(numbers[1])\n",
        "print(numbers[2])\n",
        "print(numbers[3])\n",
        "print(numbers[4])\n",
        "print(numbers[5])"
      ],
      "metadata": {
        "colab": {
          "base_uri": "https://localhost:8080/"
        },
        "id": "4g09fCW1pfQF",
        "outputId": "8e1983a1-1e53-4623-d07e-52e4fed6abd8"
      },
      "execution_count": null,
      "outputs": [
        {
          "output_type": "stream",
          "name": "stdout",
          "text": [
            "1\n",
            "2\n",
            "10\n",
            "50\n",
            "177\n",
            "1500\n"
          ]
        }
      ]
    },
    {
      "cell_type": "code",
      "source": [
        "numbers = [1, 2, 10, 50, 100, 1500]\n",
        "numbers.insert(1750, 2000)\n",
        "numbers[1] = 5\n",
        "numbers.pop(0)\n",
        "\n",
        "print(numbers)"
      ],
      "metadata": {
        "colab": {
          "base_uri": "https://localhost:8080/"
        },
        "id": "jTcMU4b5p-g3",
        "outputId": "44062d14-8748-4aa6-d4e3-cab9ce5099f6"
      },
      "execution_count": null,
      "outputs": [
        {
          "output_type": "stream",
          "name": "stdout",
          "text": [
            "[5, 10, 50, 100, 1500, 2000]\n"
          ]
        }
      ]
    }
  ]
}
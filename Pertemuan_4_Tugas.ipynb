{
  "nbformat": 4,
  "nbformat_minor": 0,
  "metadata": {
    "colab": {
      "provenance": [],
      "authorship_tag": "ABX9TyP20nOmUhrtt1sCQrA6X5nZ",
      "include_colab_link": true
    },
    "kernelspec": {
      "name": "python3",
      "display_name": "Python 3"
    },
    "language_info": {
      "name": "python"
    }
  },
  "cells": [
    {
      "cell_type": "markdown",
      "metadata": {
        "id": "view-in-github",
        "colab_type": "text"
      },
      "source": [
        "<a href=\"https://colab.research.google.com/github/66AbiyyuM66/Pemerograman-Dasar/blob/main/Pertemuan_4_Tugas.ipynb\" target=\"_parent\"><img src=\"https://colab.research.google.com/assets/colab-badge.svg\" alt=\"Open In Colab\"/></a>"
      ]
    },
    {
      "cell_type": "code",
      "execution_count": null,
      "metadata": {
        "colab": {
          "base_uri": "https://localhost:8080/"
        },
        "id": "14FdjmbVxW_L",
        "outputId": "9dba5cc8-d5bb-44a9-d92a-8d5af7a97e37"
      },
      "outputs": [
        {
          "output_type": "stream",
          "name": "stdout",
          "text": [
            "******************************\n",
            "SELAMAT DATANG DI KAFE GEMINI\n",
            "******************************\n",
            "Menu Makanan & Minuman:\n",
            "1. Kopi Hitam   - Rp 12.000\n",
            "2. Teh Manis    - Rp  8.000\n",
            "3. Roti Bakar   - Rp 15.000\n",
            "4. Mie Instan   - Rp 10.000\n",
            "******************************\n",
            "Silakan masukkan nomor pilihan Anda (1-4): 2\n",
            "Anda memesan: Teh Manis dengan harga Rp 8000\n",
            "Anda Mendapatkan Diskon Sebesar: 30%\n",
            "Potongan Harga: Rp 2400\n",
            "Total setelah diskon: Rp 5600\n",
            "Total yang harus dibayar: Rp 5600. Masukkan uang Anda: Rp 7000\n",
            "\n",
            "--- Struk Pembayaran ---\n",
            "Pesanan Anda     : Teh Manis\n",
            "Harga Asli       : Rp 8000\n",
            "Diskon           : Rp 2400\n",
            "Total Bayar      : Rp 5600\n",
            "Uang Dibayar     : Rp 7000\n",
            "Kembalian        : Rp 1400\n",
            "Terima kasih telah berbelanja!\n"
          ]
        }
      ],
      "source": [
        "print(\"*\"*30)\n",
        "print(\"SELAMAT DATANG DI KAFE GEMINI\")\n",
        "print(\"*\"*30)\n",
        "print(\"Menu Makanan & Minuman:\")\n",
        "print(\"1. Kopi Hitam   - Rp 12.000\")\n",
        "print(\"2. Teh Manis    - Rp  8.000\")\n",
        "print(\"3. Roti Bakar   - Rp 15.000\")\n",
        "print(\"4. Mie Instan   - Rp 10.000\")\n",
        "print(\"*\"*30)\n",
        "\n",
        "pilihan_str = input(\"Silakan masukkan nomor pilihan Anda (1-4): \")\n",
        "pilihan = int(pilihan_str)\n",
        "nama_pesanan = \"\"\n",
        "harga = 0\n",
        "\n",
        "if pilihan == 1:\n",
        "    nama_pesanan = \"Kopi Hitam\"\n",
        "    harga = 12000\n",
        "elif pilihan == 2:\n",
        "    nama_pesanan = \"Teh Manis\"\n",
        "    harga = 8000\n",
        "elif pilihan == 3:\n",
        "    nama_pesanan = \"Roti Bakar\"\n",
        "    harga = 15000\n",
        "elif pilihan == 4:\n",
        "    nama_pesanan = \"Mie Instan\"\n",
        "    harga = 10000\n",
        "else:\n",
        "    print(\"Maaf, pilihan menu tidak valid.\")\n",
        "\n",
        "\n",
        "\n",
        "if harga > 0:\n",
        "    print(f\"Anda memesan: {nama_pesanan} dengan harga Rp {harga}\")\n",
        "\n",
        "    if harga >= 15000:\n",
        "      diskon = 70\n",
        "    elif harga >= 10000:\n",
        "      diskon = 50\n",
        "    else:\n",
        "      diskon = 30\n",
        "\n",
        "    total_diskon = int(harga * (diskon / 100))\n",
        "    total_bayar = harga - total_diskon\n",
        "\n",
        "    print(f\"Anda Mendapatkan Diskon Sebesar: {diskon}%\")\n",
        "    print(f\"Potongan Harga: Rp {total_diskon}\")\n",
        "    print(f\"Total setelah diskon: Rp {total_bayar}\")\n",
        "\n",
        "    uang_str = input(f\"Total yang harus dibayar: Rp {total_bayar}. Masukkan uang Anda: Rp \")\n",
        "    uang_dibayar = int(uang_str)\n",
        "\n",
        "    if uang_dibayar >= total_bayar:\n",
        "        kembali = uang_dibayar - total_bayar\n",
        "        print(\"\\n--- Struk Pembayaran ---\")\n",
        "        print(f\"Pesanan Anda     : {nama_pesanan}\")\n",
        "        print(f\"Harga Asli       : Rp {harga}\")\n",
        "        print(f\"Diskon           : Rp {total_diskon}\")\n",
        "        print(f\"Total Bayar      : Rp {total_bayar}\")\n",
        "        print(f\"Uang Dibayar     : Rp {uang_dibayar}\")\n",
        "        print(f\"Kembalian        : Rp {kembali}\")\n",
        "        print(\"Terima kasih telah berbelanja!\")\n",
        "    else:\n",
        "        kurang = total_bayar - uang_dibayar\n",
        "        print(f\"Maaf, uang Anda kurang Rp {kurang}\")\n"
      ]
    }
  ]
}
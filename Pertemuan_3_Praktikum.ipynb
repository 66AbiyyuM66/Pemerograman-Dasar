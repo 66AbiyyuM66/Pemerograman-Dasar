{
  "nbformat": 4,
  "nbformat_minor": 0,
  "metadata": {
    "colab": {
      "provenance": [],
      "authorship_tag": "ABX9TyOdjphEb6Hix1IALPzaRW6a",
      "include_colab_link": true
    },
    "kernelspec": {
      "name": "python3",
      "display_name": "Python 3"
    },
    "language_info": {
      "name": "python"
    }
  },
  "cells": [
    {
      "cell_type": "markdown",
      "metadata": {
        "id": "view-in-github",
        "colab_type": "text"
      },
      "source": [
        "<a href=\"https://colab.research.google.com/github/66AbiyyuM66/Pemerograman-Dasar/blob/main/Pertemuan_3_Praktikum.ipynb\" target=\"_parent\"><img src=\"https://colab.research.google.com/assets/colab-badge.svg\" alt=\"Open In Colab\"/></a>"
      ]
    },
    {
      "cell_type": "code",
      "execution_count": null,
      "metadata": {
        "colab": {
          "base_uri": "https://localhost:8080/"
        },
        "id": "WCOmI9VhTqQb",
        "outputId": "cbd9a223-8a83-4fc0-e0a3-1d68efc003fe"
      },
      "outputs": [
        {
          "name": "stdout",
          "output_type": "stream",
          "text": [
            "Berapa porsi makan yang Anda beli ? : 10\n",
            "siapa nama pelanggan ? : Agus\n"
          ]
        }
      ],
      "source": [
        "total = input(\"Berapa porsi makan yang Anda beli ? : \")\n",
        "nama = input (\"siapa nama pelanggan ? : \")\n"
      ]
    },
    {
      "cell_type": "code",
      "source": [
        "total = float (input (\"Berapa porsi makan yang anda beli ? : \"))\n",
        "nama = str (input (\"siapa nama pelanggan ? : \"))\n"
      ],
      "metadata": {
        "colab": {
          "base_uri": "https://localhost:8080/"
        },
        "id": "TrbFN1yYWtcN",
        "outputId": "00dcd3c4-ae74-43f7-89e7-f148a767ad9a"
      },
      "execution_count": null,
      "outputs": [
        {
          "name": "stdout",
          "output_type": "stream",
          "text": [
            "Berapa porsi makan yang anda beli ? : 23.5\n",
            "siapa nama pelanggan ? : DJ Kahim\n"
          ]
        }
      ]
    },
    {
      "cell_type": "code",
      "source": [
        "food = \"Sushi rasa es cendol\"\n",
        "print(\"Abiyyu sedang memesan beberapa porsi\", food)\n",
        "print(\"Abiyyu sedang memesan beberapa porsi \" + food)\n",
        "print(\"Abiyyu sedang memesan beberapa porsi %s\" % (food))"
      ],
      "metadata": {
        "colab": {
          "base_uri": "https://localhost:8080/"
        },
        "id": "3yhfUldMY0Ow",
        "outputId": "88a68dd1-7bef-4049-ca3d-650fb96ebd64"
      },
      "execution_count": null,
      "outputs": [
        {
          "output_type": "stream",
          "name": "stdout",
          "text": [
            "Abiyyu sedang memesan beberapa porsi Sushi rasa es cendol\n",
            "Abiyyu sedang memesan beberapa porsi Sushi rasa es cendol\n",
            "Abiyyu sedang memesan beberapa porsi Sushi rasa es cendol\n"
          ]
        }
      ]
    },
    {
      "cell_type": "code",
      "source": [
        "# Contoh penggunaan operator format output\n",
        "\n",
        "umur = 20\n",
        "nilai = 87.776\n",
        "nama = \"Agus Ilhamudin\"\n",
        "angka = 249\n",
        "\n",
        "print(\"umur saya adalah %d tahun\" % (umur))\n",
        "print(\"nilai rata rata saya adalah %2.f\" % (nilai))\n",
        "print(\"nama panjang saya adalah %s\" % (nama))\n",
        "print(\"angka %d dalam heksadesimal adalah %x\" % (angka, angka))\n",
        "print(\"angka %d dalam bilangan oktal adalah %o\" % (angka, angka))"
      ],
      "metadata": {
        "colab": {
          "base_uri": "https://localhost:8080/"
        },
        "id": "RSig0wzvnfu6",
        "outputId": "d65aa22e-5ae2-4172-e2af-b0b0384a13b2"
      },
      "execution_count": null,
      "outputs": [
        {
          "output_type": "stream",
          "name": "stdout",
          "text": [
            "umur saya adalah 20 tahun\n",
            "nilai rata rata saya adalah 88\n",
            "nama panjang saya adalah Agus Ilhamudin\n",
            "angka 249 dalam heksadesimal adalah f9\n",
            "angka 249 dalam bilangan oktal adalah 371\n"
          ]
        }
      ]
    },
    {
      "cell_type": "code",
      "source": [
        "a = 47\n",
        "b = 666\n",
        "\n",
        "print(\"penjumlahan:\", a + b)\n",
        "print(\"pengurangan:\", a - b)\n",
        "print(\"perkalian:\", a * b)\n",
        "print(\"pembagian:\", a / b)"
      ],
      "metadata": {
        "colab": {
          "base_uri": "https://localhost:8080/"
        },
        "id": "6v6QnsihZmbe",
        "outputId": "ac559cd6-d195-459e-d048-d8cd4c81ec46"
      },
      "execution_count": null,
      "outputs": [
        {
          "output_type": "stream",
          "name": "stdout",
          "text": [
            "penjumlahan: 713\n",
            "pengurangan: -619\n",
            "perkalian: 31302\n",
            "pembagian: 0.07057057057057058\n"
          ]
        }
      ]
    },
    {
      "cell_type": "code",
      "source": [
        "harga_makan = int(input(\"Berapa harga indomie rasa rendang? \"))\n",
        "jumlah_makan = int(input(\"berapa porsi yang di beli? \"))\n",
        "total_makan = harga_makan * jumlah_makan\n",
        "\n",
        "print (f\"harga makan per porsi = {harga_makan}, totalnya adalah {total_makan}\")\n"
      ],
      "metadata": {
        "colab": {
          "base_uri": "https://localhost:8080/"
        },
        "id": "F9d8GXdMbhHw",
        "outputId": "71556d8b-d125-45a7-b649-14e29715deab"
      },
      "execution_count": null,
      "outputs": [
        {
          "output_type": "stream",
          "name": "stdout",
          "text": [
            "Berapa harga indomie rasa rendang? 7000\n",
            "berapa porsi yang di beli? 2\n",
            "harga makan per porsi = 7000, totalnya adalah 14000\n"
          ]
        }
      ]
    },
    {
      "cell_type": "code",
      "source": [
        "bilangan = 15\n",
        "hasil = (bilangan > 0) and (bilangan % 5 == 0)\n",
        "print(\"genap dan positif?\", hasil)"
      ],
      "metadata": {
        "colab": {
          "base_uri": "https://localhost:8080/"
        },
        "id": "OvlBPbmvZmEH",
        "outputId": "fca5d06d-8da4-4986-a146-de7fda4625c4"
      },
      "execution_count": null,
      "outputs": [
        {
          "output_type": "stream",
          "name": "stdout",
          "text": [
            "genap dan positif? True\n"
          ]
        }
      ]
    },
    {
      "cell_type": "code",
      "source": [
        "#Konversi waktu\n",
        "\n",
        "total_detik = 3600\n",
        "jam = total_detik // 3600\n",
        "sisa_detik = total_detik % 3600\n",
        "menit = sisa_detik // 60\n",
        "detik = sisa_detik % 60\n",
        "\n",
        "print(f\"hasil konversi: {jam} Jam, {menit} Menit, {detik} Detik\")"
      ],
      "metadata": {
        "colab": {
          "base_uri": "https://localhost:8080/"
        },
        "id": "pj5qAqHjdHCV",
        "outputId": "9defafca-c26c-4614-8036-a86e933984e2"
      },
      "execution_count": null,
      "outputs": [
        {
          "output_type": "stream",
          "name": "stdout",
          "text": [
            "hasil konversi: 1 Jam, 0 Menit, 0 Detik\n"
          ]
        }
      ]
    },
    {
      "cell_type": "code",
      "source": [
        "#Konversi waktu\n",
        "\n",
        "total_detik = int(input(\"Total Detik? : \"))\n",
        "jam = total_detik // 3600\n",
        "sisa_detik = total_detik % 3600\n",
        "menit = sisa_detik // 60\n",
        "detik = sisa_detik % 60\n",
        "\n",
        "print(f\"hasil konversi: {jam} Jam, {menit} Menit, {detik} Detik\")"
      ],
      "metadata": {
        "colab": {
          "base_uri": "https://localhost:8080/"
        },
        "outputId": "4c140d8d-d737-4406-a30d-911f49fdbc1a",
        "id": "1AcMzau_eMeR"
      },
      "execution_count": null,
      "outputs": [
        {
          "output_type": "stream",
          "name": "stdout",
          "text": [
            "Total Detik? : 358200\n",
            "hasil konversi: 99 Jam, 30 Menit, 0 Detik\n"
          ]
        }
      ]
    },
    {
      "cell_type": "code",
      "source": [
        "tugas = 50\n",
        "uts = 70\n",
        "uas = 100\n",
        "nilai_akhir = (0.3 * tugas) + (0.3 * uts) + (0.4 + uas) // 3\n",
        "\n",
        "print(\"nilai akhir = \", nilai_akhir)"
      ],
      "metadata": {
        "colab": {
          "base_uri": "https://localhost:8080/"
        },
        "id": "zJ1tH8LKe9qW",
        "outputId": "cff28e6f-2c8a-4f86-a3d3-8641800175da"
      },
      "execution_count": null,
      "outputs": [
        {
          "output_type": "stream",
          "name": "stdout",
          "text": [
            "nilai akhir =  69.0\n"
          ]
        }
      ]
    },
    {
      "cell_type": "code",
      "source": [
        "kimia = float(input(\"Nilai Kimia: \"))\n",
        "fisika = float(input(\"Nilai Fisika: \"))\n",
        "mtk = float(input(\"Nilai MTK: \"))\n",
        "b_inggris = float(input(\"Nilai Bahasa Inggris: \"))\n",
        "b_indonesia = float(input(\"Nilai Bahasa Indonesia: \"))\n",
        "\n",
        "nilai_mahasiswa = (kimia + fisika + mtk + b_inggris + b_indonesia)\n",
        "rata_rata_nilai = nilai_mahasiswa / 5\n",
        "standar_kelulusan = float(input(\"Standar Kelulusan: \"))\n",
        "apakah_lulus = nilai_mahasiswa >= standar_kelulusan\n",
        "perlu_remed = nilai_mahasiswa <= standar_kelulusan\n",
        "\n",
        "print(f\"Nilai Mahasiswa: {nilai_mahasiswa}\")\n",
        "print(f\"Rata Rata Nilai: {rata_rata_nilai}\")\n",
        "print(f\"Standar Kelulusan: {standar_kelulusan}\")\n",
        "print(f\"Apakah Mahasiswa Lulus? {apakah_lulus}\")\n",
        "print(f\"Perlu Remedial? {perlu_remed}\")"
      ],
      "metadata": {
        "colab": {
          "base_uri": "https://localhost:8080/"
        },
        "id": "dXEZ2wPCgRod",
        "outputId": "286edc1c-8391-49c3-8b30-1dcca27efc68"
      },
      "execution_count": null,
      "outputs": [
        {
          "output_type": "stream",
          "name": "stdout",
          "text": [
            "Nilai Kimia: 70\n",
            "Nilai Fisika: 75\n",
            "Nilai MTK: 80\n",
            "Nilai Bahasa Inggris: 75\n",
            "Nilai Bahasa Indonesia: 60\n",
            "Standar Kelulusan: 75\n",
            "Nilai Mahasiswa: 360.0\n",
            "Rata Rata Nilai: 72.0\n",
            "Standar Kelulusan: 75.0\n",
            "Apakah Mahasiswa Lulus? True\n",
            "Perlu Remedial? False\n"
          ]
        }
      ]
    },
    {
      "cell_type": "code",
      "source": [
        "belanja = 850000\n",
        "diskon = (0, 0.1 * belanja)[belanja > 500000]\n",
        "total_harga = belanja - diskon\n",
        "\n",
        "print(f\"Total harga setelah diskon = RP.\", total_harga)"
      ],
      "metadata": {
        "colab": {
          "base_uri": "https://localhost:8080/"
        },
        "id": "DwHc7HjHhvOd",
        "outputId": "14aa6f76-e3ce-4723-a7a6-4beb8bc2468e"
      },
      "execution_count": null,
      "outputs": [
        {
          "output_type": "stream",
          "name": "stdout",
          "text": [
            "Total harga setelah diskon = RP. 765000.0\n"
          ]
        }
      ]
    },
    {
      "cell_type": "code",
      "source": [
        "Fixie_Ardently_Fullset = float (input(\"Harga : Rp.  \"))\n",
        "diskon = (0, 0.35 * Fixie_Ardently_Fullset)[Fixie_Ardently_Fullset > 1000000]\n",
        "total_harga = Fixie_Ardently_Fullset - diskon\n",
        "\n",
        "print(f\"Total harga setelah diskon = Rp.\", total_harga)"
      ],
      "metadata": {
        "colab": {
          "base_uri": "https://localhost:8080/"
        },
        "id": "o6V2b1WxhwBs",
        "outputId": "c1e28ac1-a29c-48a1-d187-77614c566e0d"
      },
      "execution_count": null,
      "outputs": [
        {
          "output_type": "stream",
          "name": "stdout",
          "text": [
            "Harga : Rp.  7200000\n",
            "Total harga setelah diskon = Rp. 4680000.0\n"
          ]
        }
      ]
    }
  ]
}
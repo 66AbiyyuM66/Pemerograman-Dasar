{
  "nbformat": 4,
  "nbformat_minor": 0,
  "metadata": {
    "colab": {
      "provenance": [],
      "authorship_tag": "ABX9TyNtVZ18th1nuohLd0e3v3Vw",
      "include_colab_link": true
    },
    "kernelspec": {
      "name": "python3",
      "display_name": "Python 3"
    },
    "language_info": {
      "name": "python"
    }
  },
  "cells": [
    {
      "cell_type": "markdown",
      "metadata": {
        "id": "view-in-github",
        "colab_type": "text"
      },
      "source": [
        "<a href=\"https://colab.research.google.com/github/66AbiyyuM66/Pemerograman-Dasar/blob/main/Pertemuan_3_Tugas.ipynb\" target=\"_parent\"><img src=\"https://colab.research.google.com/assets/colab-badge.svg\" alt=\"Open In Colab\"/></a>"
      ]
    },
    {
      "cell_type": "code",
      "execution_count": 22,
      "metadata": {
        "colab": {
          "base_uri": "https://localhost:8080/"
        },
        "id": "NY7TOLNP3GKs",
        "outputId": "3b7cbf34-943d-4684-c386-55aef18f8960"
      },
      "outputs": [
        {
          "output_type": "stream",
          "name": "stdout",
          "text": [
            "Jumlah Kopi: 20\n",
            "Jumlah Rokok: 26\n",
            "Jumlah Gorengan: 30\n",
            "Apakah Punya Member (True/False): True\n",
            "Total Belanja: 76\n",
            "Apakah Member: True\n",
            "Apakah Dapat Diskon: True\n",
            "Total Harga Pembelian: 185000\n",
            "Diskon 15%: 27750.0\n",
            "Harga Setelah Diskon: 157250.0\n",
            "Total Akhir: 174547.5\n"
          ]
        }
      ],
      "source": [
        "kopi_o = 3000\n",
        "\n",
        "rokok_ketengan = 2500\n",
        "gorengan_bakwan = 2000\n",
        "\n",
        "kopi = int(input(\"Jumlah Kopi: \"))\n",
        "rokok = int(input(\"Jumlah Rokok: \"))\n",
        "gorengan = int(input(\"Jumlah Gorengan: \"))\n",
        "member = input(\"Apakah Punya Member (True/False): \") == \"True\"\n",
        "total_belanja = kopi + rokok + gorengan\n",
        "harga_belanja_total = ((kopi_o * kopi) + (rokok * rokok_ketengan) + (gorengan * gorengan_bakwan))\n",
        "\n",
        "dapat_diskon = (member and harga_belanja_total > 100000)\n",
        "diskon = dapat_diskon * 0.15\n",
        "total_diskon = harga_belanja_total * diskon\n",
        "\n",
        "harga_setelah_diskon = harga_belanja_total - total_diskon\n",
        "\n",
        "ppn = harga_setelah_diskon * 0.11\n",
        "\n",
        "total_akhir = harga_setelah_diskon + ppn\n",
        "\n",
        "\n",
        "print(f\"Total Belanja: {total_belanja}\")\n",
        "print(f\"Apakah Member: {member}\")\n",
        "print(f\"Apakah Dapat Diskon: {dapat_diskon}\")\n",
        "print(f\"Total Harga Pembelian: {harga_belanja_total}\")\n",
        "print(f\"Diskon 15%: {total_diskon}\")\n",
        "print(f\"Harga Setelah Diskon: {harga_setelah_diskon}\")\n",
        "print(f\"Total Akhir: {total_akhir}\")"
      ]
    },
    {
      "cell_type": "code",
      "source": [],
      "metadata": {
        "id": "-lKcvO6n_dTY"
      },
      "execution_count": null,
      "outputs": []
    }
  ]
}
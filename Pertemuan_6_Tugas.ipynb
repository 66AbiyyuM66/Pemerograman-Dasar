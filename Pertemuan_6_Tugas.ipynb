{
  "nbformat": 4,
  "nbformat_minor": 0,
  "metadata": {
    "colab": {
      "provenance": [],
      "authorship_tag": "ABX9TyNVfr4KUOQihi3YgVOiETcR",
      "include_colab_link": true
    },
    "kernelspec": {
      "name": "python3",
      "display_name": "Python 3"
    },
    "language_info": {
      "name": "python"
    }
  },
  "cells": [
    {
      "cell_type": "markdown",
      "metadata": {
        "id": "view-in-github",
        "colab_type": "text"
      },
      "source": [
        "<a href=\"https://colab.research.google.com/github/66AbiyyuM66/Pemerograman-Dasar/blob/main/Pertemuan_6_Tugas.ipynb\" target=\"_parent\"><img src=\"https://colab.research.google.com/assets/colab-badge.svg\" alt=\"Open In Colab\"/></a>"
      ]
    },
    {
      "cell_type": "code",
      "execution_count": 4,
      "metadata": {
        "colab": {
          "base_uri": "https://localhost:8080/"
        },
        "id": "onLdUwx1_4gu",
        "outputId": "d8e4f906-4330-4f37-d2ff-88f54dce4210"
      },
      "outputs": [
        {
          "output_type": "stream",
          "name": "stdout",
          "text": [
            "Nama Gudang: Gudang SinarJaya Mentari\n",
            "Jumlah Rak: 4\n",
            "Kategori Barang: ('Makanan', 'Non-Makanan')\n",
            "Barang tersedia: ['Beras', 'Gula', 'Minyak', 'Gula', 'Sabun', 'Kopi GoodDay', 'Garam', 'Sabun Cuci', 'Shampo', 'Beras']\n",
            "Barang unik (set): {'Sabun Cuci', 'Gula', 'Sabun', 'Kopi GoodDay', 'Shampo', 'Beras', 'Garam', 'Minyak'}\n",
            "\n",
            "=== CEK STOK BARANG ===\n",
            "Sabun Cuci: 5 unit → Stok sedikit\n",
            "Gula: 20 unit → Stok cukup\n",
            "Sabun: 30 unit → Stok cukup\n",
            "Kopi GoodDay: 25 unit → Stok cukup\n",
            "Shampo: 0 unit → Stok kosong\n",
            "Beras: 50 unit → Stok banyak\n",
            "Garam: 0 unit → Stok kosong\n",
            "Minyak: 15 unit → Stok cukup\n",
            "\n",
            "=== DAFTAR BARANG ===\n",
            "Barang ke-1: Beras\n",
            "Barang ke-2: Gula\n",
            "Barang ke-3: Minyak\n",
            "Barang ke-4: Gula\n",
            "Barang ke-5: Sabun\n",
            "Barang ke-6: Kopi GoodDay\n",
            "Barang ke-7: Garam\n",
            "Barang ke-8: Sabun Cuci\n",
            "Barang ke-9: Shampo\n",
            "Barang ke-10: Beras\n",
            "\n",
            "=== RINGKASAN GUDANG ===\n",
            "Nama Gudang: Gudang SinarJaya Mentari\n",
            "Jumlah Rak: 4\n",
            "Aktif: True\n",
            "Jumlah Barang Unik: 8\n",
            "Total Jenis Barang: 10\n"
          ]
        }
      ],
      "source": [
        "nama_gudang = \"Gudang SinarJaya Mentari\"\n",
        "jumlah_rak = 4\n",
        "aktif = True\n",
        "\n",
        "\n",
        "barang_list = [\"Beras\", \"Gula\", \"Minyak\", \"Gula\", \"Sabun\", \"Kopi GoodDay\",\n",
        "               \"Garam\", \"Sabun Cuci\", \"Shampo\", \"Beras\"]\n",
        "kategori_tuple = (\"Makanan\", \"Non-Makanan\")\n",
        "stok_dict = {\"Beras\": 50, \"Gula\": 20, \"Minyak\": 15, \"Sabun\": 30, \"Kopi GoodDay\" : 25,\n",
        "             \"Garam\": 0, \"Sabun Cuci\": 5, \"Shampo\": 0}\n",
        "barang_unik = set(barang_list)\n",
        "\n",
        "print(f\"Nama Gudang: {nama_gudang}\")\n",
        "print(f\"Jumlah Rak: {jumlah_rak}\")\n",
        "print(f\"Kategori Barang: {kategori_tuple}\")\n",
        "print(f\"Barang tersedia: {barang_list}\")\n",
        "print(f\"Barang unik (set): {barang_unik}\")\n",
        "\n",
        "print(\"\\n=== CEK STOK BARANG ===\")\n",
        "for barang in barang_unik:\n",
        "    stok = stok_dict.get(barang, 0)\n",
        "    if stok > 30:\n",
        "        status = \"Stok banyak\"\n",
        "    elif stok > 10:\n",
        "        status = \"Stok cukup\"\n",
        "    elif stok ==0:\n",
        "        status = \"Stok kosong\"\n",
        "    else:\n",
        "        status = \"Stok sedikit\"\n",
        "    print(f\"{barang}: {stok} unit → {status}\")\n",
        "\n",
        "jumlah_barang = 0\n",
        "for i in barang_list:\n",
        "    jumlah_barang += 1\n",
        "\n",
        "jumlah_barang_unik = 0\n",
        "for i in barang_unik:\n",
        "    jumlah_barang_unik += 1\n",
        "\n",
        "\n",
        "print(\"\\n=== DAFTAR BARANG ===\")\n",
        "i = 0\n",
        "while i < jumlah_barang:\n",
        "    print(f\"Barang ke-{i+1}: {barang_list[i]}\")\n",
        "    i += 1\n",
        "\n",
        "\n",
        "ringkasan = {\n",
        "    \"Nama Gudang\": nama_gudang,\n",
        "    \"Jumlah Rak\": jumlah_rak,\n",
        "    \"Aktif\": aktif,\n",
        "    \"Jumlah Barang Unik\": jumlah_barang_unik,\n",
        "    \"Total Jenis Barang\": jumlah_barang\n",
        "}\n",
        "\n",
        "print(\"\\n=== RINGKASAN GUDANG ===\")\n",
        "for k, v in ringkasan.items():\n",
        "    print(f\"{k}: {v}\")\n"
      ]
    }
  ]
}
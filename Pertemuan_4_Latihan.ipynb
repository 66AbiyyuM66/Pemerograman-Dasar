{
  "nbformat": 4,
  "nbformat_minor": 0,
  "metadata": {
    "colab": {
      "provenance": [],
      "authorship_tag": "ABX9TyO6lrSuNJ42C6igys8vUJbN",
      "include_colab_link": true
    },
    "kernelspec": {
      "name": "python3",
      "display_name": "Python 3"
    },
    "language_info": {
      "name": "python"
    }
  },
  "cells": [
    {
      "cell_type": "markdown",
      "metadata": {
        "id": "view-in-github",
        "colab_type": "text"
      },
      "source": [
        "<a href=\"https://colab.research.google.com/github/66AbiyyuM66/Pemerograman-Dasar/blob/main/Pertemuan_4_Latihan.ipynb\" target=\"_parent\"><img src=\"https://colab.research.google.com/assets/colab-badge.svg\" alt=\"Open In Colab\"/></a>"
      ]
    },
    {
      "cell_type": "code",
      "execution_count": null,
      "metadata": {
        "id": "i6XPHkchuPgd",
        "colab": {
          "base_uri": "https://localhost:8080/"
        },
        "outputId": "d1b6ef70-f211-4fc3-823f-913d18211a80"
      },
      "outputs": [
        {
          "output_type": "stream",
          "name": "stdout",
          "text": [
            "Ketikkan Angka: 10\n",
            "Angka 10 Adalah Kelipatan 5\n"
          ]
        }
      ],
      "source": [
        "#Latihan 1\n",
        "\n",
        "angka = int(input(\"Ketikkan Angka: \"))\n",
        "\n",
        "if angka % 5 == 0:\n",
        "    print(f\"Angka {angka} Adalah Kelipatan 5\")"
      ]
    },
    {
      "cell_type": "code",
      "source": [
        "#Latihan 2\n",
        "\n",
        "tahun_kabisat = int(input(\"Tahun: \"))\n",
        "\n",
        "if int(tahun_kabisat) % 400 == 0:\n",
        "  print(f\"Tahun {tahun_kabisat} Adalah Tahun Kabisat\")\n",
        "elif int(tahun_kabisat) % 4 == 0 and int(tahun_kabisat) % 100 != 0:\n",
        "  print(f\"Tahun {tahun_kabisat} Adalah Tahun Kabisat\")\n",
        "else:\n",
        "  print(f\"Tahun {tahun_kabisat} Ini Bukanlah Tahun Kabisat\")"
      ],
      "metadata": {
        "colab": {
          "base_uri": "https://localhost:8080/"
        },
        "id": "1MuEau650YYr",
        "outputId": "8ad010c2-933a-456a-a990-48d8d05b24dd"
      },
      "execution_count": null,
      "outputs": [
        {
          "output_type": "stream",
          "name": "stdout",
          "text": [
            "Tahun: 2028\n",
            "Tahun 2028 Adalah Tahun Kabisat\n"
          ]
        }
      ]
    },
    {
      "cell_type": "code",
      "source": [
        "#Latihan 3\n",
        "\n",
        "bilangan = int(input(\"Masukkan Salah Satu Bilangan dari 1-100 yang mana bilangan ganjil: \"))\n",
        "\n",
        "if bilangan % 2 == 0:\n",
        "    print(f\"Bilangan {bilangan} Adalah Genap\")\n",
        "else :\n",
        "    print(f\"Bilangan {bilangan} Adalah Ganjil\")"
      ],
      "metadata": {
        "id": "Za5zDfmu45NW",
        "colab": {
          "base_uri": "https://localhost:8080/"
        },
        "outputId": "d99a2155-f4ae-464d-e83e-2796283e7e94"
      },
      "execution_count": null,
      "outputs": [
        {
          "output_type": "stream",
          "name": "stdout",
          "text": [
            "Masukkan Salah Satu Bilangan dari 1-100 yang mana bilangan ganjil: 88\n",
            "Bilangan 88 Adalah Genap\n"
          ]
        }
      ]
    },
    {
      "cell_type": "code",
      "source": [
        "#Latihan 4\n",
        "\n",
        "bulan = int(input(\"Masukkan Anggka Untuk Memilih Bulan (1-12): \"))\n",
        "\n",
        "if bulan == 1:\n",
        "    print(\"Januari\")\n",
        "elif bulan == 2:\n",
        "    print(\"Februari\")\n",
        "elif bulan == 3:\n",
        "    print(\"Maret\")\n",
        "elif bulan == 4:\n",
        "    print(\"April\")\n",
        "elif bulan == 5:\n",
        "    print(\"Mei\")\n",
        "elif bulan == 6:\n",
        "    print(\"Juni\")\n",
        "elif bulan == 7:\n",
        "    print(\"Juli\")\n",
        "elif bulan == 8:\n",
        "    print(\"Agustus\")\n",
        "elif bulan == 9:\n",
        "    print(\"September\")\n",
        "elif bulan == 10:\n",
        "    print(\"Oktober\")\n",
        "elif bulan == 11:\n",
        "    print(\"November\")\n",
        "elif bulan == 12:\n",
        "    print(\"Desember\")\n",
        "else:\n",
        "    print(\"Input salah\")\n"
      ],
      "metadata": {
        "colab": {
          "base_uri": "https://localhost:8080/"
        },
        "id": "-lW5wEIZt_X0",
        "outputId": "3a9f7bf5-d2c7-47df-8bad-d5b8978ef388"
      },
      "execution_count": null,
      "outputs": [
        {
          "output_type": "stream",
          "name": "stdout",
          "text": [
            "Masukkan Anggka Untuk Memilih Bulan (1-12): 7\n",
            "Juli\n"
          ]
        }
      ]
    },
    {
      "cell_type": "code",
      "source": [
        "jam = int(input(\"Masukkan Jam: \"))\n",
        "\n",
        "if jam >= 0 and jam <= 11:\n",
        "  print(\"Selamat Pagi\")\n",
        "elif jam >= 12 and jam <= 15:\n",
        "  print(\"Selamat Siang\")\n",
        "elif jam >= 16 and jam <= 18:\n",
        "  print(\"Selamat Sore\")\n",
        "elif jam >= 19 and jam <= 23:\n",
        "  print(\"Selamat Malam\")\n",
        "else:\n",
        "  print(\"Jam Tidak Valid\")"
      ],
      "metadata": {
        "colab": {
          "base_uri": "https://localhost:8080/"
        },
        "id": "6f5qQ2Y1vMDJ",
        "outputId": "c3bf75b8-03e9-4031-93d4-6d24b74ab7d7"
      },
      "execution_count": null,
      "outputs": [
        {
          "output_type": "stream",
          "name": "stdout",
          "text": [
            "Masukkan Jam: 14\n",
            "Selamat Siang\n"
          ]
        }
      ]
    }
  ]
}
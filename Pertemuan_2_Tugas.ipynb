{
  "nbformat": 4,
  "nbformat_minor": 0,
  "metadata": {
    "colab": {
      "provenance": [],
      "authorship_tag": "ABX9TyOI6uCeocaZIhJi8r+ks4sA",
      "include_colab_link": true
    },
    "kernelspec": {
      "name": "python3",
      "display_name": "Python 3"
    },
    "language_info": {
      "name": "python"
    }
  },
  "cells": [
    {
      "cell_type": "markdown",
      "metadata": {
        "id": "view-in-github",
        "colab_type": "text"
      },
      "source": [
        "<a href=\"https://colab.research.google.com/github/66AbiyyuM66/Pemerograman-Dasar/blob/main/Pertemuan_2_Tugas.ipynb\" target=\"_parent\"><img src=\"https://colab.research.google.com/assets/colab-badge.svg\" alt=\"Open In Colab\"/></a>"
      ]
    },
    {
      "cell_type": "code",
      "execution_count": 12,
      "metadata": {
        "id": "92oUOIR1R0oI",
        "colab": {
          "base_uri": "https://localhost:8080/"
        },
        "outputId": "e3bf14dc-5369-477a-a4b6-34eeacab8c2d"
      },
      "outputs": [
        {
          "output_type": "stream",
          "name": "stdout",
          "text": [
            "<class 'str'>\n",
            "<class 'str'>\n",
            "<class 'int'>\n",
            "<class 'bool'>\n"
          ]
        }
      ],
      "source": [
        "#Kode yang bertujuan untuk menentukan dan mengklasifikasi tipe data dari kode\n",
        "\n",
        "firstName = \"Abiyyu Muflih\"\n",
        "lastName = \"Kurnia\"\n",
        "age = 20\n",
        "isMarried = False\n",
        "\n",
        "print(type(firstName))\n",
        "print(type(lastName))\n",
        "print(type(age))\n",
        "print(type(isMarried))"
      ]
    },
    {
      "cell_type": "code",
      "source": [
        "#Membuat variable data dalan bentuk Dictionary\n",
        "\n",
        "data_diri = {\"firstName\": \"Abiyyu Muflih\", \"lastName\": \"Kurnia\", \"age\": 20, \"isMarried\" : False}\n",
        "\n",
        "print(data_diri[\"isMarried\"])"
      ],
      "metadata": {
        "colab": {
          "base_uri": "https://localhost:8080/"
        },
        "id": "uHSr8M0NSUOJ",
        "outputId": "046c0e36-1b2c-4605-aaa6-1dda3c5c19b1"
      },
      "execution_count": null,
      "outputs": [
        {
          "output_type": "stream",
          "name": "stdout",
          "text": [
            "False\n"
          ]
        }
      ]
    },
    {
      "cell_type": "code",
      "source": [
        "#Membuat variable data bertipe data list, dan menyimpankan daftar isi ke dalamnya\n",
        "\n",
        "inpeksi = [\"pemahaman terhadap rencana dan desain\",\n",
        "           \"ketersediaan bahan dan peralatan\",\n",
        "           \"pengwasan pekerjaan\",\n",
        "           \"kualitas kontruksi\",\n",
        "           \"keselamatan kerja\",\n",
        "           \"koordinasi dengan pemilik proyek\",\n",
        "           ]\n",
        "\n",
        "\n",
        "print(\"daftar inspeksi : \")\n",
        "for item in inpeksi :\n",
        "  print(\"-\", item)"
      ],
      "metadata": {
        "id": "VHmvZU_1SXHZ",
        "colab": {
          "base_uri": "https://localhost:8080/"
        },
        "outputId": "3c1940c0-d1ae-40b5-a999-668f48c96b3d"
      },
      "execution_count": 1,
      "outputs": [
        {
          "output_type": "stream",
          "name": "stdout",
          "text": [
            "daftar inspeksi : \n",
            "- pemahaman terhadap rencana dan desain\n",
            "- ketersediaan bahan dan peralatan\n",
            "- pengwasan pekerjaan\n",
            "- kualitas kontruksi\n",
            "- keselamatan kerja\n",
            "- koordinasi dengan pemilik proyek\n"
          ]
        }
      ]
    },
    {
      "cell_type": "code",
      "source": [
        "#Membuat variable data bertipe Dictionary, dengan key dan isi, untuk di panggil keynya\n",
        "\n",
        "startTime = {\"HH\" : 9, \"mm\" : 23, \"ss\" : 57}\n",
        "endTime = {\"HH\" : 15, \"mm\" : 25, \"ss\" : 43}\n",
        "\n",
        "print(\"startTime :\", startTime)\n",
        "print(\"endTime :\", endTime)\n",
        "print(startTime [\"mm\"])"
      ],
      "metadata": {
        "colab": {
          "base_uri": "https://localhost:8080/"
        },
        "id": "nI3mauAl-PTU",
        "outputId": "d65d59ce-ffae-405a-abac-c514a26ee28f"
      },
      "execution_count": 8,
      "outputs": [
        {
          "output_type": "stream",
          "name": "stdout",
          "text": [
            "startTime : {'HH': 9, 'mm': 23, 'ss': 57}\n",
            "endTime : {'HH': 15, 'mm': 25, 'ss': 43}\n",
            "23\n"
          ]
        }
      ]
    },
    {
      "cell_type": "code",
      "source": [
        "#Membuat beberapa variable data, menggunakan tipe set dan tuple, kemudaian di eksekusi menggunakan methode union dan intersection\n",
        "\n",
        "katalog_A = {\"susu\", \"parfum\", \"deterjen\", \"soklin lantai\", \"saos\"}\n",
        "katalog_B = {\"indomie kuah\", \"susu\", \"santan kara\", \"saos\", \"kecap\" }\n",
        "produk_diskon = (\"parfum\", \"santan kara\", \"kecap\")\n",
        "\n",
        "katalog_lengkap = katalog_A.union(katalog_B)\n",
        "produk_promo_aktif = katalog_A.intersection(katalog_B)\n",
        "\n",
        "\n",
        "print(katalog_lengkap)\n",
        "print(produk_promo_aktif)"
      ],
      "metadata": {
        "colab": {
          "base_uri": "https://localhost:8080/"
        },
        "id": "-5QAsP0UAm34",
        "outputId": "06194c3a-7d82-4272-fea8-ec2dc496758f"
      },
      "execution_count": 10,
      "outputs": [
        {
          "output_type": "stream",
          "name": "stdout",
          "text": [
            "{'parfum', 'kecap', 'deterjen', 'indomie kuah', 'santan kara', 'soklin lantai', 'susu', 'saos'}\n",
            "{'susu', 'saos'}\n"
          ]
        }
      ]
    }
  ]
}